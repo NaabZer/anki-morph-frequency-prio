{
 "cells": [
  {
   "cell_type": "code",
   "execution_count": null,
   "id": "bf48b0f2-a1b7-47ab-a0e8-ae71163c24b0",
   "metadata": {},
   "outputs": [],
   "source": [
    "#AnkiConnect\n",
    "import json\n",
    "import urllib.request\n",
    "\n",
    "def request(action, **params):\n",
    "    return {'action': action, 'params': params, 'version': 6}\n",
    "\n",
    "def invoke(action, **params):\n",
    "    requestJson = json.dumps(request(action, **params)).encode('utf-8')\n",
    "    response = json.load(urllib.request.urlopen(urllib.request.Request('http://127.0.0.1:8765', requestJson)))\n",
    "    if len(response) != 2:\n",
    "        raise Exception('response has an unexpected number of fields')\n",
    "    if 'error' not in response:\n",
    "        raise Exception('response is missing required error field')\n",
    "    if 'result' not in response:\n",
    "        raise Exception('response is missing required result field')\n",
    "    if response['error'] is not None:\n",
    "        raise Exception(response['error'])\n",
    "    return response['result']"
   ]
  },
  {
   "cell_type": "code",
   "execution_count": 25,
   "id": "a425f6df-eaa1-4a9a-994a-9a0b4f1daa0f",
   "metadata": {},
   "outputs": [],
   "source": [
    "import polars as pl\n",
    "import re"
   ]
  },
  {
   "cell_type": "code",
   "execution_count": 40,
   "id": "72d04cd5-a141-4f26-a4ed-b19bcf4e91c1",
   "metadata": {},
   "outputs": [],
   "source": [
    "def remove_bolds(sent: str) -> str:\n",
    "    return re.sub(r\"<.*?>\", \"\", sent)"
   ]
  },
  {
   "cell_type": "code",
   "execution_count": 15,
   "id": "365203ad-aa3a-4949-8e5d-71f8c55876ad",
   "metadata": {},
   "outputs": [],
   "source": [
    "notes = invoke('findNotes', query=\"\\\"deck:Japanese Vocab\\\" note:Lapis\")"
   ]
  },
  {
   "cell_type": "code",
   "execution_count": 34,
   "id": "69e31a1a-c874-4e9b-8565-869080201654",
   "metadata": {},
   "outputs": [],
   "source": [
    "noteInfos = invoke('notesInfo', notes=notes)"
   ]
  },
  {
   "cell_type": "code",
   "execution_count": 38,
   "id": "e31ba05f-079f-477d-b28d-aba322ce8766",
   "metadata": {},
   "outputs": [
    {
     "data": {
      "text/plain": [
       "'<b>身内</b>に医者がいると、何かと安心だ。'"
      ]
     },
     "execution_count": 38,
     "metadata": {},
     "output_type": "execute_result"
    }
   ],
   "source": [
    "noteInfos[0]['fields']['Sentence']['value']"
   ]
  },
  {
   "cell_type": "code",
   "execution_count": 50,
   "id": "a4c5145a-6a6f-4559-8eba-52501f098a36",
   "metadata": {},
   "outputs": [],
   "source": [
    "cleaned_sents = [remove_bolds(item['fields']['Sentence']['value']).strip()+'\\n' for item in noteInfos]"
   ]
  },
  {
   "cell_type": "code",
   "execution_count": 53,
   "id": "d332a751-b744-40c0-a42d-59f8b77eeedd",
   "metadata": {},
   "outputs": [],
   "source": [
    "with open(\"test.txt\", \"w\") as f:\n",
    "    f.writelines(cleaned_sents)"
   ]
  },
  {
   "cell_type": "markdown",
   "id": "6c0d65ce-5084-413c-bba7-aafc068bce54",
   "metadata": {},
   "source": [
    "## Load generated file and process it"
   ]
  },
  {
   "cell_type": "code",
   "execution_count": 58,
   "id": "7147989b-2942-4d88-bf47-48f72698af81",
   "metadata": {},
   "outputs": [],
   "source": [
    "in_df = pl.read_csv('priority-file.csv')"
   ]
  },
  {
   "cell_type": "code",
   "execution_count": 59,
   "id": "5a17aa87-ff98-416b-acf9-1988c5e2fedb",
   "metadata": {},
   "outputs": [
    {
     "data": {
      "text/html": [
       "<div><style>\n",
       ".dataframe > thead > tr,\n",
       ".dataframe > tbody > tr {\n",
       "  text-align: right;\n",
       "  white-space: pre-wrap;\n",
       "}\n",
       "</style>\n",
       "<small>shape: (5, 4)</small><table border=\"1\" class=\"dataframe\"><thead><tr><th>Morph-Lemma</th><th>Morph-Inflection</th><th>Lemma-Priority</th><th>Inflection-Priority</th></tr><tr><td>str</td><td>str</td><td>i64</td><td>i64</td></tr></thead><tbody><tr><td>&quot;の&quot;</td><td>&quot;の&quot;</td><td>0</td><td>0</td></tr><tr><td>&quot;は&quot;</td><td>&quot;は&quot;</td><td>1</td><td>1</td></tr><tr><td>&quot;が&quot;</td><td>&quot;が&quot;</td><td>2</td><td>2</td></tr><tr><td>&quot;を&quot;</td><td>&quot;を&quot;</td><td>3</td><td>3</td></tr><tr><td>&quot;に&quot;</td><td>&quot;に&quot;</td><td>4</td><td>4</td></tr></tbody></table></div>"
      ],
      "text/plain": [
       "shape: (5, 4)\n",
       "┌─────────────┬──────────────────┬────────────────┬─────────────────────┐\n",
       "│ Morph-Lemma ┆ Morph-Inflection ┆ Lemma-Priority ┆ Inflection-Priority │\n",
       "│ ---         ┆ ---              ┆ ---            ┆ ---                 │\n",
       "│ str         ┆ str              ┆ i64            ┆ i64                 │\n",
       "╞═════════════╪══════════════════╪════════════════╪═════════════════════╡\n",
       "│ の          ┆ の               ┆ 0              ┆ 0                   │\n",
       "│ は          ┆ は               ┆ 1              ┆ 1                   │\n",
       "│ が          ┆ が               ┆ 2              ┆ 2                   │\n",
       "│ を          ┆ を               ┆ 3              ┆ 3                   │\n",
       "│ に          ┆ に               ┆ 4              ┆ 4                   │\n",
       "└─────────────┴──────────────────┴────────────────┴─────────────────────┘"
      ]
     },
     "execution_count": 59,
     "metadata": {},
     "output_type": "execute_result"
    }
   ],
   "source": [
    "in_df.head()"
   ]
  },
  {
   "cell_type": "code",
   "execution_count": 85,
   "id": "4b8bc79c-5ef2-4bc1-a06e-ed0ef8f51061",
   "metadata": {},
   "outputs": [],
   "source": [
    "import collections"
   ]
  },
  {
   "cell_type": "code",
   "execution_count": 70,
   "id": "466f2744-b878-4075-8e1c-928605267996",
   "metadata": {},
   "outputs": [],
   "source": [
    "import glob\n",
    "from pathlib import Path\n",
    "import json"
   ]
  },
  {
   "cell_type": "code",
   "execution_count": 64,
   "id": "68e0a971-6042-4742-a3de-1fdb461abcd9",
   "metadata": {},
   "outputs": [],
   "source": [
    "dict_folders = glob.glob('../dicts/*')"
   ]
  },
  {
   "cell_type": "code",
   "execution_count": 107,
   "id": "48042eb4-9e56-4006-a448-488e6a5f0772",
   "metadata": {},
   "outputs": [],
   "source": [
    "def parse_dict(json_in, dict_dicts: collections.defaultdict):\n",
    "    for json_item in json_in:\n",
    "        if type(json_item[2]) is int:  # Straight up frequency\n",
    "            dict_dicts[json_item[0]].append(json_item[2])\n",
    "        elif \"frequency\" in json_item[2]:\n",
    "            if type(json_item[2]['frequency']) is dict:\n",
    "                dict_dicts[json_item[0]].append(json_item[2]['frequency']['value'])\n",
    "            else:\n",
    "                dict_dicts[json_item[0]].append(json_item[2]['frequency'])\n",
    "        elif \"value\" in json_item[2]:\n",
    "            dict_dicts[json_item[0]].append(json_item[2]['value'])\n",
    "            if type(json_item[2]['value']) is dict:\n",
    "                print(json_item[2]['value'])\n",
    "            "
   ]
  },
  {
   "cell_type": "code",
   "execution_count": 108,
   "id": "fac8fca0-0eca-417c-beb0-65831bc819c1",
   "metadata": {},
   "outputs": [],
   "source": []
  },
  {
   "cell_type": "code",
   "execution_count": 109,
   "id": "654dabc6-ad6c-4ca1-888c-cfedd89aeac8",
   "metadata": {
    "scrolled": true
   },
   "outputs": [
    {
     "name": "stdout",
     "output_type": "stream",
     "text": [
      "---\n",
      "---\n",
      "---\n",
      "---\n",
      "---\n",
      "---\n"
     ]
    }
   ],
   "source": [
    "dict_dicts = collections.defaultdict(list)\n",
    "for dict_folder in dict_folders:\n",
    "    print('---')\n",
    "    for json_file_p in glob.glob(dict_folder + \"/*\"):\n",
    "        file = Path(json_file_p)\n",
    "        if(file.name == 'index.json'):\n",
    "            continue\n",
    "        with open(json_file_p, 'r') as f:\n",
    "            parse_dict(json.load(f), dict_dicts)"
   ]
  },
  {
   "cell_type": "code",
   "execution_count": 113,
   "id": "bd5565db-5f1c-4e79-918f-26f5d139672d",
   "metadata": {},
   "outputs": [],
   "source": [
    "mean_dicts = {k: sum(d)//len(d) for k, d in dict_dicts.items()}"
   ]
  },
  {
   "cell_type": "code",
   "execution_count": 119,
   "id": "8f1a38fc-3aac-4a78-87af-2b7aa678c95d",
   "metadata": {},
   "outputs": [],
   "source": [
    "in_df = in_df.with_columns(\n",
    "    pl.col(\"Morph-Lemma\").replace_strict(mean_dicts, default=15000).alias(\"morph_freq\")\n",
    ")"
   ]
  },
  {
   "cell_type": "code",
   "execution_count": 120,
   "id": "aad61bd6-15eb-4794-a7c6-a6cb73b8b5f6",
   "metadata": {},
   "outputs": [],
   "source": [
    "in_df = in_df.with_columns(\n",
    "    pl.col(\"Morph-Inflection\").replace_strict(mean_dicts, default=15000).alias(\"infl_freq\")\n",
    ")"
   ]
  },
  {
   "cell_type": "code",
   "execution_count": 132,
   "id": "06f6b5f6-0a8a-4fc1-a4c2-ccfa798bec6d",
   "metadata": {},
   "outputs": [],
   "source": [
    "in_df = in_df.sort('infl_freq')\n",
    "in_df = in_df.with_columns(\n",
    "    pl.int_range(pl.len(), dtype=pl.UInt32).alias('Inflection-Priority')\n",
    ")"
   ]
  },
  {
   "cell_type": "code",
   "execution_count": 133,
   "id": "6edbdfb3-f489-4057-83bb-ec5dcb3a6728",
   "metadata": {},
   "outputs": [],
   "source": [
    "in_df = in_df.sort('morph_freq')\n",
    "in_df = in_df.with_columns(\n",
    "    pl.int_range(pl.len(), dtype=pl.UInt32).alias('Lemma-Priority')\n",
    ")"
   ]
  },
  {
   "cell_type": "code",
   "execution_count": 135,
   "id": "98ad9a0f-71ab-4050-80cd-f1dda3c117aa",
   "metadata": {},
   "outputs": [],
   "source": [
    "in_df.write_csv('freq_sorted_prio.csv')"
   ]
  },
  {
   "cell_type": "code",
   "execution_count": 136,
   "id": "e278bdbd-b637-4951-85bf-f62e8b617f7c",
   "metadata": {},
   "outputs": [
    {
     "data": {
      "text/html": [
       "<div><style>\n",
       ".dataframe > thead > tr,\n",
       ".dataframe > tbody > tr {\n",
       "  text-align: right;\n",
       "  white-space: pre-wrap;\n",
       "}\n",
       "</style>\n",
       "<small>shape: (3, 6)</small><table border=\"1\" class=\"dataframe\"><thead><tr><th>Morph-Lemma</th><th>Morph-Inflection</th><th>Lemma-Priority</th><th>Inflection-Priority</th><th>morph_freq</th><th>infl_freq</th></tr><tr><td>str</td><td>str</td><td>u32</td><td>u32</td><td>i64</td><td>i64</td></tr></thead><tbody><tr><td>&quot;飛ぶ&quot;</td><td>&quot;飛ぶ&quot;</td><td>434</td><td>243</td><td>844</td><td>844</td></tr><tr><td>&quot;飛ぶ&quot;</td><td>&quot;飛ん&quot;</td><td>435</td><td>3601</td><td>844</td><td>15000</td></tr><tr><td>&quot;飛ぶ&quot;</td><td>&quot;飛び&quot;</td><td>436</td><td>6925</td><td>844</td><td>51070</td></tr></tbody></table></div>"
      ],
      "text/plain": [
       "shape: (3, 6)\n",
       "┌─────────────┬──────────────────┬────────────────┬─────────────────────┬────────────┬───────────┐\n",
       "│ Morph-Lemma ┆ Morph-Inflection ┆ Lemma-Priority ┆ Inflection-Priority ┆ morph_freq ┆ infl_freq │\n",
       "│ ---         ┆ ---              ┆ ---            ┆ ---                 ┆ ---        ┆ ---       │\n",
       "│ str         ┆ str              ┆ u32            ┆ u32                 ┆ i64        ┆ i64       │\n",
       "╞═════════════╪══════════════════╪════════════════╪═════════════════════╪════════════╪═══════════╡\n",
       "│ 飛ぶ        ┆ 飛ぶ             ┆ 434            ┆ 243                 ┆ 844        ┆ 844       │\n",
       "│ 飛ぶ        ┆ 飛ん             ┆ 435            ┆ 3601                ┆ 844        ┆ 15000     │\n",
       "│ 飛ぶ        ┆ 飛び             ┆ 436            ┆ 6925                ┆ 844        ┆ 51070     │\n",
       "└─────────────┴──────────────────┴────────────────┴─────────────────────┴────────────┴───────────┘"
      ]
     },
     "execution_count": 136,
     "metadata": {},
     "output_type": "execute_result"
    }
   ],
   "source": [
    "in_df.filter(pl.col('Morph-Lemma') == '飛ぶ')"
   ]
  }
 ],
 "metadata": {
  "kernelspec": {
   "display_name": "Python 3 (ipykernel)",
   "language": "python",
   "name": "python3"
  },
  "language_info": {
   "codemirror_mode": {
    "name": "ipython",
    "version": 3
   },
   "file_extension": ".py",
   "mimetype": "text/x-python",
   "name": "python",
   "nbconvert_exporter": "python",
   "pygments_lexer": "ipython3",
   "version": "3.10.16"
  }
 },
 "nbformat": 4,
 "nbformat_minor": 5
}
