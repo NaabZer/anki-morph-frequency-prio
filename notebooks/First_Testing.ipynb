{
 "cells": [
  {
   "cell_type": "code",
   "execution_count": null,
   "id": "bf48b0f2-a1b7-47ab-a0e8-ae71163c24b0",
   "metadata": {},
   "outputs": [],
   "source": [
    "#AnkiConnect\n",
    "import json\n",
    "import urllib.request\n",
    "\n",
    "def request(action, **params):\n",
    "    return {'action': action, 'params': params, 'version': 6}\n",
    "\n",
    "def invoke(action, **params):\n",
    "    requestJson = json.dumps(request(action, **params)).encode('utf-8')\n",
    "    response = json.load(urllib.request.urlopen(urllib.request.Request('http://127.0.0.1:8765', requestJson)))\n",
    "    if len(response) != 2:\n",
    "        raise Exception('response has an unexpected number of fields')\n",
    "    if 'error' not in response:\n",
    "        raise Exception('response is missing required error field')\n",
    "    if 'result' not in response:\n",
    "        raise Exception('response is missing required result field')\n",
    "    if response['error'] is not None:\n",
    "        raise Exception(response['error'])\n",
    "    return response['result']"
   ]
  },
  {
   "cell_type": "code",
   "execution_count": 25,
   "id": "a425f6df-eaa1-4a9a-994a-9a0b4f1daa0f",
   "metadata": {},
   "outputs": [],
   "source": [
    "import polars as pl\n",
    "import re"
   ]
  },
  {
   "cell_type": "code",
   "execution_count": 40,
   "id": "72d04cd5-a141-4f26-a4ed-b19bcf4e91c1",
   "metadata": {},
   "outputs": [],
   "source": [
    "def remove_bolds(sent: str) -> str:\n",
    "    return re.sub(r\"<.*?>\", \"\", sent)"
   ]
  },
  {
   "cell_type": "code",
   "execution_count": 15,
   "id": "365203ad-aa3a-4949-8e5d-71f8c55876ad",
   "metadata": {},
   "outputs": [],
   "source": [
    "notes = invoke('findNotes', query=\"\\\"deck:Japanese Vocab\\\" note:Lapis\")"
   ]
  },
  {
   "cell_type": "code",
   "execution_count": 34,
   "id": "69e31a1a-c874-4e9b-8565-869080201654",
   "metadata": {},
   "outputs": [],
   "source": [
    "noteInfos = invoke('notesInfo', notes=notes)"
   ]
  },
  {
   "cell_type": "code",
   "execution_count": 38,
   "id": "e31ba05f-079f-477d-b28d-aba322ce8766",
   "metadata": {},
   "outputs": [
    {
     "data": {
      "text/plain": [
       "'<b>身内</b>に医者がいると、何かと安心だ。'"
      ]
     },
     "execution_count": 38,
     "metadata": {},
     "output_type": "execute_result"
    }
   ],
   "source": [
    "noteInfos[0]['fields']['Sentence']['value']"
   ]
  },
  {
   "cell_type": "code",
   "execution_count": 50,
   "id": "a4c5145a-6a6f-4559-8eba-52501f098a36",
   "metadata": {},
   "outputs": [],
   "source": [
    "cleaned_sents = [remove_bolds(item['fields']['Sentence']['value']).strip()+'\\n' for item in noteInfos]"
   ]
  },
  {
   "cell_type": "code",
   "execution_count": 51,
   "id": "d332a751-b744-40c0-a42d-59f8b77eeedd",
   "metadata": {},
   "outputs": [],
   "source": [
    "with open(\"test.txt\", \"w\") as f:\n",
    "    f.writelines(cleaned_sents)"
   ]
  },
  {
   "cell_type": "code",
   "execution_count": null,
   "id": "b9e2544a-5dba-4e4e-a15f-fb5ac9c6d3ba",
   "metadata": {},
   "outputs": [],
   "source": []
  }
 ],
 "metadata": {
  "kernelspec": {
   "display_name": "Python 3 (ipykernel)",
   "language": "python",
   "name": "python3"
  },
  "language_info": {
   "codemirror_mode": {
    "name": "ipython",
    "version": 3
   },
   "file_extension": ".py",
   "mimetype": "text/x-python",
   "name": "python",
   "nbconvert_exporter": "python",
   "pygments_lexer": "ipython3",
   "version": "3.10.16"
  }
 },
 "nbformat": 4,
 "nbformat_minor": 5
}
